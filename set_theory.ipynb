{
 "cells": [
  {
   "cell_type": "markdown",
   "id": "4148dedb",
   "metadata": {},
   "source": [
    "# Complement Assignment\n",
    "---\n",
    "### $\\textbf{U}^{c}$ = $\\emptyset$\n",
    "The complement of $\\textbf{U}$ contains exactly those elements under consideration that are not in $\\textbf{U}$.<br> $\\textbf{U}^{c}$ = $\\textbf{U}$ - $\\textbf{U}$<br> ∴ $\\textbf{U}^{c}$ = $\\emptyset$"
   ]
  },
  {
   "cell_type": "markdown",
   "id": "bd4ede1e",
   "metadata": {},
   "source": [
    "# 1. Proving Identities\n",
    "---\n",
    "## Given: A and B are sets, $\\exists$ x such that (x $\\in$ A $\\land$ x $\\in$ B)<br>\n",
    "### a. A\\B = A $\\cap$ $B^{c}$\n",
    "A\\B = A $\\cap$ $B^{c}$<br> A\\B = {x|x $\\in$ A $\\land$ x $\\notin$ B}<br> A $\\cap$ $B^{c}$ = {x|x $\\in$ A $\\land$ x $\\notin$ B}<br> ∴ A\\B = A $\\cap$ $B^{c}$<br>\n",
    "<br>\n",
    "<br>\n",
    "### b. B = (B $\\cap$ A) $\\cup$ (B $\\cap$ $A^{c}$) \n",
    "B = (B $\\cap$ A) $\\cup$ (B $\\cap$ $A^{c}$)<br> B $\\cap$ A = {x|x $\\in$ A $\\land$ x $\\in$ B}<br> B $\\cap$ $A^{c}$ = {x|x $\\in$ B $\\land$ x $\\notin$ A}<br> (B $\\cap$ A) $\\cup$ (B $\\cap$ $A^{c}$) = {x|(x $\\in$ A $\\land$ x $\\in$ B) $\\cup$ (x $\\in$ B $\\land$ x $\\notin$ A)}<br> B = {x|(x $\\in$ A $\\land$ x $\\in$ B) $\\cup$ (x $\\in$ B $\\land$ x $\\notin$ A)}<br>\n",
    "∴ B = (B $\\cap$ A) $\\cup$ (B $\\cap$ $A^{c}$)<br>\n",
    "<br>\n",
    "<br>\n",
    "### c. B\\A = B $\\cap$ $A^{c}$\n",
    "B\\A = B $\\cap$ $A^{c}$<br> B\\A = {x|x $\\in$ B $\\land$ x $\\notin$ A}<br> B $\\cap$ $A^{c}$ = {x|x $\\in$ B $\\land$ x $\\notin$ A}<br> ∴ B\\A = B $\\cap$ $A^{c}$<br>\n",
    "<br>\n",
    "<br>\n",
    "### d. A $\\cup$ B = A $\\cup$ (B $\\cap$ $A^{c}$)\n",
    "A $\\cup$ B = A $\\cup$ (B $\\cap$ $A^{c}$)<br> A $\\cup$ B = {x|x $\\in$ A $\\lor$ x $\\in$ B}<br> B $\\cap$ $A^{c}$ = {x|x $\\in$ B $\\land$ x $\\notin$ A}<br> {x|x $\\in$ B $\\land$ x $\\notin$ A} = $A^{c}$<br>\n",
    "A $\\cup$ $A^{c}$ = {x|x $\\in$ A $\\lor$ x $\\in$ B}<br> ∴ A $\\cup$ B = A $\\cup$ (B $\\cap$ $A^{c}$)<br>\n",
    "<br>\n",
    "<br>\n",
    "### e. $(\\textbf{U}_{i=1}^{\\infty} A_{i}^{c})^{c}$ = $\\cap_{i=1}^{\\infty}A_{i}$\n",
    "$(\\textbf{U}_{i=1}^{\\infty} A_{i}^{c})^{c}$ = $\\cap_{i=1}^{\\infty}A_{i}$<br> $(\\textbf{U}_{i=1}^{\\infty} A_{i}^{c})^{c}$ = $\\cap_{i=1}^{\\infty}(A_{i}^{c})^{c}$<br> ∴ $(\\textbf{U}_{i=1}^{\\infty} A_{i}^{c})^{c}$ = $\\cap_{i=1}^{\\infty}A_{i}$<br> \n",
    "<br>\n",
    "<br>\n",
    "### f. |A $\\cup$ B| = |A| + |B| - |A $\\cap$ B|\n",
    "|A $\\cup$ B| = |A| + |B| - |A $\\cap$ B|<br> A = {1, 2, 3}<br> B = {3, 4, 5}<br> A $\\cup$ B = {1, 2, 3, 4, 5}<br> A $\\cap$ B = {3}<br> |A| = 3<br> |B| = 3<br> |A $\\cup$ B| = 5<br> |A $\\cap$ B| = 1<br> |A $\\cup$ B| = |A| + |B| - |A $\\cap$ B| = 3 + 3 - 1 = 5<br> ∴ |A $\\cup$ B| = |A| + |B| - |A $\\cap$ B|"
   ]
  },
  {
   "cell_type": "markdown",
   "id": "13e47a62",
   "metadata": {},
   "source": [
    "# 2. Sets and Subsets\n",
    "---\n",
    "### a. If A = {2, 3, 4, 5}, and B = {x $\\in$ $\\mathbb{N}$ | x $\\ is \\ even$}. Is A $\\subset$ B? Show a proof.\n",
    "A $\\not\\subset$ B<br> Set A has odd numbers, which does not satisfy X $\\ is \\ even$.<br>\n",
    "∴ A $\\not\\subset$ B<br>\n",
    "<br>\n",
    "<br>\n",
    "### b. Let sets $\\textbf{A} = \\{x|x \\in \\mathbb{Z}, 0 \\leq x \\leq 9\\},\n",
    "\\textbf{B} = \\{ 2,4,6,8\\},\n",
    "\\ and \\ \n",
    "\\textbf{C}  = \\{ 1,3,5,7,9\\}\n",
    "\\ and \\ \\textbf{D}  = \\{ 3,4,5\\}$\n",
    "Find a set $\\textbf{X}$ which will satisfy the following conditions:<br>\n",
    "    1. $\\textbf{X} \\ and \\ \\textbf{B}$ are disjoint.<br>\n",
    "    2. $\\textbf{X} \\subseteq \\textbf{D}$ but $\\textbf{X} \\nsubseteq \\textbf{B}$.<br>\n",
    "    3. $\\textbf{X} \\subseteq \\textbf{A}$ but $\\textbf{X} \\not\\subset \\textbf{C}$.<br>\n",
    "    <br>\n",
    "    <br>\n",
    "    1. X = X $\\cap$ B = {}<br> 2. X = {x|x $\\in$ D $\\land$ x $\\notin$ B} = {3, 5}<br> 3. X = {x|x $\\in$ A $\\land$ x $\\notin$ C} = {3, 5}<br> ∴ X = {}"
   ]
  },
  {
   "cell_type": "markdown",
   "id": "c2da8917",
   "metadata": {},
   "source": [
    "# 3. Set Operations\n",
    "---\n",
    "### a. C $\\oplus$ D\n",
    "C $\\oplus$ D = (C $\\cup$ D) \\ (C $\\cap$ D) = (C\\D) $\\cup$ (D\\C)<br> C $\\cup$ D = {1, 3, 5, 6, 7, 8, 9}<br> C $\\cap$ D = {5, 7, 9}<br> C\\D = {6, 8}<br> D\\C = {1, 3}<br> (C $\\cup$ D) \\ (C $\\cap$ D) = {1, 3, 6, 8}<br> (C\\D) $\\cup$ (D\\C) = {1, 3, 6, 8}<br> ∴ C $\\oplus$ D = {1, 3, 6, 8}"
   ]
  },
  {
   "cell_type": "code",
   "execution_count": 1,
   "id": "37fc26a7",
   "metadata": {},
   "outputs": [
    {
     "name": "stdout",
     "output_type": "stream",
     "text": [
      "∴ {1, 3, 6, 8}\n"
     ]
    }
   ],
   "source": [
    "### Pythonic Solution\n",
    "C = {5, 6, 7, 8, 9}\n",
    "D = {1, 3, 5, 7, 9}\n",
    " \n",
    "result = C ^ D\n",
    "print(\"∴\",result)"
   ]
  },
  {
   "cell_type": "markdown",
   "id": "bcc2d68e",
   "metadata": {},
   "source": [
    "### b. A\\B\n",
    "A\\B = {x|x $\\in$ A $\\land$ x $\\notin$ B} = $B^{c}$<br> $B^{c}$ = {1, 2, 3}<br> ∴ A\\B = {1, 2, 3}"
   ]
  },
  {
   "cell_type": "code",
   "execution_count": 2,
   "id": "d3090bc8",
   "metadata": {},
   "outputs": [
    {
     "name": "stdout",
     "output_type": "stream",
     "text": [
      "∴ {1, 2, 3}\n"
     ]
    }
   ],
   "source": [
    "### Pythonic Solution\n",
    "A = {1, 2, 3, 4, 5}\n",
    "B = {4, 5, 6, 7}\n",
    " \n",
    "result = A - B\n",
    "print(\"∴\",result)"
   ]
  },
  {
   "cell_type": "markdown",
   "id": "3a216f57",
   "metadata": {},
   "source": [
    "### c. B\\A\n",
    "B\\A = {x|x $\\in$ B $\\land$ x $\\notin$ A} = $A^{c}$<br> $A^{c}$ = {6, 7}<br> ∴ B\\A = {6, 7}"
   ]
  },
  {
   "cell_type": "code",
   "execution_count": 3,
   "id": "171bbc8d",
   "metadata": {},
   "outputs": [
    {
     "name": "stdout",
     "output_type": "stream",
     "text": [
      "∴ {6, 7}\n"
     ]
    }
   ],
   "source": [
    "### Pythonic Solution\n",
    "A = {1, 2, 3, 4, 5}\n",
    "B = {4, 5, 6, 7}\n",
    "\n",
    "result = B - A\n",
    "print(\"∴\",result)"
   ]
  },
  {
   "cell_type": "markdown",
   "id": "f1888db8",
   "metadata": {},
   "source": [
    "### d. E $\\oplus$ F\n",
    "E $\\oplus$ F = (E $\\cup$ F) \\ (E $\\cap$ F) = (E\\F) $\\cup$ (F\\E)<br> E $\\cup$ F = {1, 2, 4, 5, 6, 8, 9}<br> E $\\cap$ F = {}<br> E\\F = {2, 4, 6, 8}<br> F\\E = {1, 5, 9}<br> (E $\\cup$ F) \\ (E $\\cap$ F) = {1, 2, 4, 5, 6, 8, 9}<br> (E\\F) $\\cup$ (F\\E) = {1, 2, 4, 5, 6, 8, 9}<br> ∴ E $\\oplus$ F = {1, 2, 4, 5, 6, 8, 9}"
   ]
  },
  {
   "cell_type": "code",
   "execution_count": 4,
   "id": "707786f5",
   "metadata": {},
   "outputs": [
    {
     "name": "stdout",
     "output_type": "stream",
     "text": [
      "∴ {1, 2, 4, 5, 6, 8, 9}\n"
     ]
    }
   ],
   "source": [
    "### Pythonic Solution\n",
    "E = {2, 4, 6, 8}\n",
    "F = {1, 5, 9}\n",
    "\n",
    "result = E ^ F\n",
    "print(\"∴\",result)"
   ]
  },
  {
   "cell_type": "markdown",
   "id": "6fe2d876",
   "metadata": {},
   "source": [
    "# 4. Finite Sets and The Counting Principles\n",
    "---"
   ]
  },
  {
   "cell_type": "code",
   "execution_count": 5,
   "id": "fa3d4af6",
   "metadata": {},
   "outputs": [
    {
     "data": {
      "image/png": "[encoded data removed]",
      "text/plain": [
       "<Figure size 640x480 with 1 Axes>"
      ]
     },
     "metadata": {},
     "output_type": "display_data"
    },
    {
     "name": "stdout",
     "output_type": "stream",
     "text": [
      "Number of people who read at least one magazine: 100\n",
      "Number of people who read exactly one magazine: 56\n"
     ]
    }
   ],
   "source": [
    "from matplotlib_venn import venn3_unweighted\n",
    "import matplotlib.pyplot as plt\n",
    "\n",
    "people = 120\n",
    "newsweek = 65\n",
    "times = 45\n",
    "fortune = 42\n",
    "newsweek_times = 20\n",
    "newsweek_fortune = 25\n",
    "times_fortune = 15\n",
    "n_t_f = 8\n",
    "\n",
    "newsweek_only = newsweek - newsweek_times - newsweek_fortune + n_t_f\n",
    "times_only = times - newsweek_times - times_fortune + n_t_f\n",
    "fortune_only = fortune - newsweek_fortune - times_fortune + n_t_f\n",
    "at_least_one = newsweek_only + times_only + fortune_only + (newsweek_times - n_t_f) + (newsweek_fortune - n_t_f) + (times_fortune - n_t_f) + n_t_f \n",
    "\n",
    "A = {newsweek_only, (newsweek_times - n_t_f), (newsweek_fortune - n_t_f), n_t_f}\n",
    "B = {times_only, (newsweek_times - n_t_f), (times_fortune - n_t_f), n_t_f}\n",
    "C = {fortune_only, (newsweek_fortune - n_t_f), (times_fortune - n_t_f), n_t_f}\n",
    "\n",
    "def drawVenn3(A,B,C,labels = ('Newsweek', 'Times', 'Fortune')):\n",
    "    v3 = venn3_unweighted(subsets=(newsweek_only, times_only, fortune_only, (newsweek_times + newsweek_fortune - n_t_f), (newsweek_times - times_fortune - n_t_f), (newsweek_fortune - times_fortune - n_t_f),  n_t_f), set_labels = labels) \n",
    "\n",
    "           \n",
    "    v3.get_label_by_id('100').set_text(str(newsweek_only))\n",
    "    v3.get_patch_by_id('100').set_alpha(0.6)\n",
    "    v3.get_patch_by_id('100').set_facecolor('Yellow')\n",
    "\n",
    "    v3.get_label_by_id('110').set_text(str(newsweek_times - n_t_f))\n",
    "    v3.get_patch_by_id('110').set_alpha(0.3)\n",
    "    v3.get_patch_by_id('110').set_facecolor('Red')\n",
    "   \n",
    "    v3.get_label_by_id('010').set_text(str(times_only))\n",
    "    v3.get_patch_by_id('010').set_alpha(0.6)\n",
    "    v3.get_patch_by_id('010').set_facecolor('Magenta')\n",
    " \n",
    "    v3.get_label_by_id('101').set_text(str(newsweek_fortune - n_t_f))\n",
    "    v3.get_patch_by_id('101').set_alpha(0.3)\n",
    "    v3.get_patch_by_id('101').set_facecolor('Green')\n",
    "    \n",
    "    v3.get_label_by_id('111').set_text(str(n_t_f))\n",
    "    v3.get_patch_by_id('111').set_alpha(0.1)\n",
    "    v3.get_patch_by_id('111').set_facecolor('Black')\n",
    "    \n",
    "    v3.get_label_by_id('011').set_text(str(times_fortune - n_t_f))\n",
    "    v3.get_patch_by_id('011').set_alpha(0.3)\n",
    "    v3.get_patch_by_id('011').set_facecolor('Blue')\n",
    " \n",
    "    v3.get_label_by_id('001').set_text(str(fortune_only))\n",
    "    v3.get_patch_by_id('001').set_alpha(0.6)\n",
    "    v3.get_patch_by_id('001').set_facecolor('Cyan')           \n",
    "\n",
    "drawVenn3(A,B,C,labels = ('Newsweek', 'Times', 'Fortune'))           \n",
    "plt.title(\"Magazine Readers\")\n",
    "plt.show()\n",
    "           \n",
    "\n",
    "print(\"Number of people who read at least one magazine:\", at_least_one)\n",
    "print(\"Number of people who read exactly one magazine:\", newsweek_only + times_only + fortune_only)"
   ]
  },
  {
   "cell_type": "code",
   "execution_count": 6,
   "id": "94098ef7",
   "metadata": {},
   "outputs": [
    {
     "data": {
      "image/png": "[encoded data removed]",
      "text/plain": [
       "<Figure size 640x480 with 1 Axes>"
      ]
     },
     "metadata": {},
     "output_type": "display_data"
    },
    {
     "name": "stdout",
     "output_type": "stream",
     "text": [
      "Number of cars with W only: 5\n",
      "Number of cars with A only: 4\n",
      "Number of cars with R only: 2\n",
      "Number of cars with both R and W but not A: 1\n",
      "Number of cars with both A and R but not W: 6\n",
      "Number of cars with only one option: 11\n",
      "Number of cars with at least one option: 23\n",
      "Number of cars with none of the Options: 2\n"
     ]
    }
   ],
   "source": [
    "from matplotlib_venn import venn3_unweighted\n",
    "import matplotlib.pyplot as plt\n",
    "\n",
    "total = 25\n",
    "a = 15\n",
    "r = 12\n",
    "w = 11\n",
    "a_w = 5\n",
    "a_r = 9\n",
    "r_w = 4\n",
    "a_r_w = 3\n",
    "\n",
    "a_only = a - a_w - a_r + a_r_w\n",
    "r_only = r - a_r - r_w + a_r_w\n",
    "w_only = w - a_w - r_w + a_r_w\n",
    "at_least_one = a_only + r_only + w_only + (a_r - a_r_w) + (a_w - a_r_w) + (r_w - a_r_w) + a_r_w\n",
    "only_one = a_only + r_only + w_only\n",
    "none = total - at_least_one\n",
    "A = {a_only, (a_r - a_r_w), (a_w - a_r_w), a_r_w}\n",
    "B = {r_only, (a_r - a_r_w), (r_w - a_r_w), a_r_w}\n",
    "C = {w_only, (a_w - a_r_w), (r_w - a_r_w), a_r_w}\n",
    "\n",
    "def drawVenn3(A,B,C,labels = ('Air-conditioning', 'Radio', 'Windows')):\n",
    "    v3 = venn3_unweighted(subsets=(a_only, r_only, w_only, (a_r + a_w - a_r_w), (a_r - r_w - a_r_w), (a_w - r_w - a_r_w),  a_r_w), set_labels = labels) \n",
    "\n",
    "        \n",
    "    v3.get_label_by_id('100').set_text(str(a_only))\n",
    "    v3.get_patch_by_id('100').set_alpha(0.6)\n",
    "    v3.get_patch_by_id('100').set_facecolor('Yellow')\n",
    "\n",
    "    v3.get_label_by_id('110').set_text(str(a_r - a_r_w))\n",
    "    v3.get_patch_by_id('110').set_alpha(0.3)\n",
    "    v3.get_patch_by_id('110').set_facecolor('Red')\n",
    "   \n",
    "    v3.get_label_by_id('010').set_text(str(r_only))\n",
    "    v3.get_patch_by_id('010').set_alpha(0.6)\n",
    "    v3.get_patch_by_id('010').set_facecolor('Magenta')\n",
    " \n",
    "    v3.get_label_by_id('101').set_text(str(a_w - a_r_w))\n",
    "    v3.get_patch_by_id('101').set_alpha(0.3)\n",
    "    v3.get_patch_by_id('101').set_facecolor('Green')\n",
    "    \n",
    "    v3.get_label_by_id('111').set_text(str(a_r_w))\n",
    "    v3.get_patch_by_id('111').set_alpha(0.1)\n",
    "    v3.get_patch_by_id('111').set_facecolor('Black')\n",
    "    \n",
    "    v3.get_label_by_id('011').set_text(str(r_w - a_r_w))\n",
    "    v3.get_patch_by_id('011').set_alpha(0.3)\n",
    "    v3.get_patch_by_id('011').set_facecolor('Blue')\n",
    " \n",
    "    v3.get_label_by_id('001').set_text(str(w_only))\n",
    "    v3.get_patch_by_id('001').set_alpha(0.6)\n",
    "    v3.get_patch_by_id('001').set_facecolor('Cyan')           \n",
    "    \n",
    "drawVenn3(A,B,C,labels = ('Air-conditioning', 'Radio', 'Windows'))           \n",
    "plt.title(\"Car Options\")\n",
    "plt.show()\n",
    "\n",
    "print(\"Number of cars with W only:\", w_only)\n",
    "print(\"Number of cars with A only:\", a_only)\n",
    "print(\"Number of cars with R only:\", r_only)\n",
    "print(\"Number of cars with both R and W but not A:\", (r_w - a_r_w))\n",
    "print(\"Number of cars with both A and R but not W:\", (a_r - a_r_w))\n",
    "print(\"Number of cars with only one option:\", only_one)\n",
    "print(\"Number of cars with at least one option:\", at_least_one)\n",
    "print(\"Number of cars with none of the Options:\", none)"
   ]
  },
  {
   "cell_type": "code",
   "execution_count": null,
   "id": "7604cd32",
   "metadata": {},
   "outputs": [],
   "source": []
  }
 ],
 "metadata": {
  "kernelspec": {
   "display_name": "Python 3 (ipykernel)",
   "language": "python",
   "name": "python3"
  },
  "language_info": {
   "codemirror_mode": {
    "name": "ipython",
    "version": 3
   },
   "file_extension": ".py",
   "mimetype": "text/x-python",
   "name": "python",
   "nbconvert_exporter": "python",
   "pygments_lexer": "ipython3",
   "version": "3.11.4"
  }
 },
 "nbformat": 4,
 "nbformat_minor": 5
}
